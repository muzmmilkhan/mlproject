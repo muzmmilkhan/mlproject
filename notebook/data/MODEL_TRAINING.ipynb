{
 "cells": [
  {
   "cell_type": "code",
   "execution_count": 3,
   "id": "cf42fce9",
   "metadata": {},
   "outputs": [],
   "source": [
    "import numpy as np\n",
    "import pandas as pd"
   ]
  },
  {
   "cell_type": "code",
   "execution_count": 4,
   "id": "f15c1afa",
   "metadata": {},
   "outputs": [],
   "source": [
    "import matplotlib.pyplot as plt\n",
    "import seaborn as sns\n",
    "%matplotlib inline"
   ]
  },
  {
   "cell_type": "code",
   "execution_count": 10,
   "id": "5cc6f8ee",
   "metadata": {},
   "outputs": [],
   "source": [
    "from sklearn.model_selection import train_test_split, RandomizedSearchCV, GridSearchCV\n",
    "from sklearn.preprocessing import StandardScaler, OneHotEncoder\n",
    "from sklearn.metrics import accuracy_score, classification_report, confusion_matrix, mean_squared_error, r2_score, mean_absolute_error\n",
    "from sklearn.ensemble import RandomForestRegressor, AdaBoostRegressor\n",
    "from sklearn.linear_model import LogisticRegression, LinearRegression, Ridge, Lasso\n",
    "from sklearn.tree import DecisionTreeRegressor\n",
    "from sklearn.svm import SVR\n",
    "from sklearn.neighbors import KNeighborsClassifier\n",
    "from sklearn.naive_bayes import GaussianNB\n",
    "from sklearn.pipeline import Pipeline\n",
    "from sklearn.compose import ColumnTransformer\n",
    "from catboost import CatBoostRegressor\n",
    "from xgboost import XGBRegressor\n",
    "import warnings\n",
    "warnings.filterwarnings('ignore')"
   ]
  },
  {
   "cell_type": "code",
   "execution_count": 11,
   "id": "1f7bc3a2",
   "metadata": {},
   "outputs": [],
   "source": [
    "df = pd.read_csv('/Users/MU20414673/Krish_Naik_Project/mlproject/notebook/data/stud.csv')"
   ]
  },
  {
   "cell_type": "code",
   "execution_count": 12,
   "id": "ca2bb3de",
   "metadata": {},
   "outputs": [],
   "source": [
    "X = df.drop(columns=['math_score'],axis=1)\n",
    "y = df['math_score']"
   ]
  },
  {
   "cell_type": "code",
   "execution_count": 13,
   "id": "1415e1af",
   "metadata": {},
   "outputs": [],
   "source": [
    "num_features = X.select_dtypes(include=['int64', 'float64']).columns.tolist()\n",
    "cat_features = X.select_dtypes(include=['object']).columns.tolist()"
   ]
  },
  {
   "cell_type": "code",
   "execution_count": 14,
   "id": "d6a4f4bf",
   "metadata": {},
   "outputs": [],
   "source": [
    "numerical_transformer = StandardScaler()\n",
    "oh_encoder = OneHotEncoder()\n",
    "\n",
    "preprocessor = ColumnTransformer(\n",
    "    transformers=[\n",
    "        ('num', numerical_transformer, num_features),\n",
    "        ('cat', oh_encoder, cat_features)\n",
    "    ]\n",
    ")"
   ]
  },
  {
   "cell_type": "code",
   "execution_count": 15,
   "id": "5216510a",
   "metadata": {},
   "outputs": [],
   "source": [
    "X = preprocessor.fit_transform(X)"
   ]
  },
  {
   "cell_type": "code",
   "execution_count": 16,
   "id": "c399e936",
   "metadata": {},
   "outputs": [
    {
     "data": {
      "text/plain": [
       "((1000, 19), (1000,))"
      ]
     },
     "execution_count": 16,
     "metadata": {},
     "output_type": "execute_result"
    }
   ],
   "source": [
    "X.shape, y.shape"
   ]
  },
  {
   "cell_type": "code",
   "execution_count": 17,
   "id": "083ed9db",
   "metadata": {},
   "outputs": [
    {
     "data": {
      "text/plain": [
       "((800, 19), (200, 19), (800,), (200,))"
      ]
     },
     "execution_count": 17,
     "metadata": {},
     "output_type": "execute_result"
    }
   ],
   "source": [
    "X_train, X_test, y_train, y_test = train_test_split(X, y, test_size=0.2, random_state=42)\n",
    "X_train.shape, X_test.shape, y_train.shape, y_test.shape"
   ]
  },
  {
   "cell_type": "code",
   "execution_count": 18,
   "id": "f422f458",
   "metadata": {},
   "outputs": [],
   "source": [
    "def evaluate_model(true, predicted):\n",
    "    mse = mean_squared_error(true, predicted)\n",
    "    rmse = np.sqrt(mse)\n",
    "    r2 = r2_score(true, predicted)\n",
    "    mae = mean_absolute_error(true, predicted)\n",
    "    return mae, rmse, r2"
   ]
  },
  {
   "cell_type": "code",
   "execution_count": null,
   "id": "d08be5ee",
   "metadata": {},
   "outputs": [
    {
     "name": "stdout",
     "output_type": "stream",
     "text": [
      "Logistic Regression\n",
      "Train MAE: 5.81375, Train RMSE: 8.070083642689212, Train R2: 0.7111245231714195\n",
      "Test MAE: 7.28, Test RMSE: 9.144943958275523, Test R2: 0.6563222245235442\n",
      "--------------------------------------------------\n",
      "Linear Regression\n",
      "Train MAE: 4.2667118460719555, Train RMSE: 5.323050852720513, Train R2: 0.8743172040139593\n",
      "Test MAE: 4.214763142474851, Test RMSE: 5.393993869732841, Test R2: 0.8804332983749565\n",
      "--------------------------------------------------\n",
      "Ridge Regression\n",
      "Train MAE: 4.264987823725978, Train RMSE: 5.323324922741656, Train R2: 0.8743042615212908\n",
      "Test MAE: 4.2111006880142625, Test RMSE: 5.390387016935638, Test R2: 0.8805931485028738\n",
      "--------------------------------------------------\n",
      "Lasso Regression\n",
      "Train MAE: 5.206296077972952, Train RMSE: 6.593807540619166, Train R2: 0.8071466723085148\n",
      "Test MAE: 5.157879138921816, Test RMSE: 6.519688056285626, Test R2: 0.825320079562973\n",
      "--------------------------------------------------\n",
      "Decision Tree\n",
      "Train MAE: 0.01875, Train RMSE: 0.2795084971874737, Train R2: 0.9996534669718089\n",
      "Test MAE: 6.01, Test RMSE: 7.566372975210778, Test R2: 0.7647309261505788\n",
      "--------------------------------------------------\n",
      "Random Forest\n",
      "Train MAE: 1.8309302083333336, Train RMSE: 2.286623650916127, Train R2: 0.9768076911605991\n",
      "Test MAE: 4.646179166666667, Test RMSE: 5.971871160385997, Test R2: 0.8534417701593747\n",
      "--------------------------------------------------\n",
      "AdaBoost\n",
      "Train MAE: 4.685694616022696, Train RMSE: 5.744381536166677, Train R2: 0.8536336783892967\n",
      "Test MAE: 4.705553463160276, Test RMSE: 6.059497918136484, Test R2: 0.8491092444928529\n",
      "--------------------------------------------------\n",
      "Support Vector Regression\n",
      "Train MAE: 4.869189452384867, Train RMSE: 6.57700724251018, Train R2: 0.8081281585902299\n",
      "Test MAE: 5.4015392444969965, Test RMSE: 8.126623218622633, Test R2: 0.7286001513223704\n",
      "--------------------------------------------------\n",
      "K-Nearest Neighbors\n",
      "Train MAE: 7.49375, Train RMSE: 10.382858469612305, Train R2: 0.5218232327953922\n",
      "Test MAE: 9.225, Test RMSE: 11.382662254499165, Test R2: 0.46755218247510466\n",
      "--------------------------------------------------\n",
      "Naive Bayes\n",
      "Train MAE: 16.465, Train RMSE: 19.812369873389706, Train R2: -0.7411150023150832\n",
      "Test MAE: 17.695, Test RMSE: 20.850059951952176, Test R2: -0.786503897453094\n",
      "--------------------------------------------------\n",
      "CatBoost\n",
      "Train MAE: 2.405393926779502, Train RMSE: 3.042664195326799, Train R2: 0.9589358676277713\n",
      "Test MAE: 4.612531714976557, Test RMSE: 6.008631956907363, Test R2: 0.8516318920747058\n",
      "--------------------------------------------------\n",
      "XGBoost\n",
      "Train MAE: 0.687466561794281, Train RMSE: 1.0072816737145132, Train R2: 0.9954995512962341\n",
      "Test MAE: 5.1036295890808105, Test RMSE: 6.595750261250729, Test R2: 0.8212205171585083\n",
      "--------------------------------------------------\n"
     ]
    }
   ],
   "source": [
    "models = {\n",
    "    'Logistic Regression': LogisticRegression(),\n",
    "    'Linear Regression': LinearRegression(),\n",
    "    'Ridge Regression': Ridge(),\n",
    "    'Lasso Regression': Lasso(),\n",
    "    'Decision Tree': DecisionTreeRegressor(),\n",
    "    'Random Forest': RandomForestRegressor(),\n",
    "    'AdaBoost': AdaBoostRegressor(),\n",
    "    'Support Vector Regression': SVR(),\n",
    "    'K-Nearest Neighbors': KNeighborsClassifier(),\n",
    "    'Naive Bayes': GaussianNB(),\n",
    "    'CatBoost': CatBoostRegressor(verbose=0),\n",
    "    'XGBoost': XGBRegressor(eval_metric='rmse')\n",
    "}\n",
    "\n",
    "model_list = []\n",
    "r2_list = []\n",
    "\n",
    "for i in range(len(list(models))):\n",
    "    model = list(models.values())[i]\n",
    "    model.fit(X_train, y_train)\n",
    "    \n",
    "    y_train_pred = model.predict(X_train)\n",
    "    y_test_pred = model.predict(X_test)\n",
    "\n",
    "    train_mae, train_rmse, train_r2 = evaluate_model(y_train, y_train_pred)\n",
    "    test_mae, test_rmse, test_r2 = evaluate_model(y_test, y_test_pred)\n",
    "\n",
    "    print(list(models.keys())[i])\n",
    "    model_list.append(list(models.keys())[i])\n",
    "\n",
    "    print(f\"Train MAE: {train_mae}, Train RMSE: {train_rmse}, Train R2: {train_r2}\")\n",
    "    print(f\"Test MAE: {test_mae}, Test RMSE: {test_rmse}, Test R2: {test_r2}\")\n",
    "    print(\"--------------------------------------------------\")\n",
    "    r2_list.append(test_r2)"
   ]
  },
  {
   "cell_type": "code",
   "execution_count": 20,
   "id": "ea8337cf",
   "metadata": {},
   "outputs": [
    {
     "data": {
      "text/html": [
       "<div>\n",
       "<style scoped>\n",
       "    .dataframe tbody tr th:only-of-type {\n",
       "        vertical-align: middle;\n",
       "    }\n",
       "\n",
       "    .dataframe tbody tr th {\n",
       "        vertical-align: top;\n",
       "    }\n",
       "\n",
       "    .dataframe thead th {\n",
       "        text-align: right;\n",
       "    }\n",
       "</style>\n",
       "<table border=\"1\" class=\"dataframe\">\n",
       "  <thead>\n",
       "    <tr style=\"text-align: right;\">\n",
       "      <th></th>\n",
       "      <th>Model</th>\n",
       "      <th>R2 Score</th>\n",
       "    </tr>\n",
       "  </thead>\n",
       "  <tbody>\n",
       "    <tr>\n",
       "      <th>0</th>\n",
       "      <td>Ridge Regression</td>\n",
       "      <td>0.880593</td>\n",
       "    </tr>\n",
       "    <tr>\n",
       "      <th>1</th>\n",
       "      <td>Linear Regression</td>\n",
       "      <td>0.880433</td>\n",
       "    </tr>\n",
       "    <tr>\n",
       "      <th>2</th>\n",
       "      <td>Random Forest</td>\n",
       "      <td>0.853442</td>\n",
       "    </tr>\n",
       "    <tr>\n",
       "      <th>3</th>\n",
       "      <td>CatBoost</td>\n",
       "      <td>0.851632</td>\n",
       "    </tr>\n",
       "    <tr>\n",
       "      <th>4</th>\n",
       "      <td>AdaBoost</td>\n",
       "      <td>0.849109</td>\n",
       "    </tr>\n",
       "    <tr>\n",
       "      <th>5</th>\n",
       "      <td>Lasso Regression</td>\n",
       "      <td>0.825320</td>\n",
       "    </tr>\n",
       "    <tr>\n",
       "      <th>6</th>\n",
       "      <td>XGBoost</td>\n",
       "      <td>0.821221</td>\n",
       "    </tr>\n",
       "    <tr>\n",
       "      <th>7</th>\n",
       "      <td>Decision Tree</td>\n",
       "      <td>0.764731</td>\n",
       "    </tr>\n",
       "    <tr>\n",
       "      <th>8</th>\n",
       "      <td>Support Vector Regression</td>\n",
       "      <td>0.728600</td>\n",
       "    </tr>\n",
       "    <tr>\n",
       "      <th>9</th>\n",
       "      <td>Logistic Regression</td>\n",
       "      <td>0.656322</td>\n",
       "    </tr>\n",
       "    <tr>\n",
       "      <th>10</th>\n",
       "      <td>K-Nearest Neighbors</td>\n",
       "      <td>0.467552</td>\n",
       "    </tr>\n",
       "    <tr>\n",
       "      <th>11</th>\n",
       "      <td>Naive Bayes</td>\n",
       "      <td>-0.786504</td>\n",
       "    </tr>\n",
       "  </tbody>\n",
       "</table>\n",
       "</div>"
      ],
      "text/plain": [
       "                        Model  R2 Score\n",
       "0            Ridge Regression  0.880593\n",
       "1           Linear Regression  0.880433\n",
       "2               Random Forest  0.853442\n",
       "3                    CatBoost  0.851632\n",
       "4                    AdaBoost  0.849109\n",
       "5            Lasso Regression  0.825320\n",
       "6                     XGBoost  0.821221\n",
       "7               Decision Tree  0.764731\n",
       "8   Support Vector Regression  0.728600\n",
       "9         Logistic Regression  0.656322\n",
       "10        K-Nearest Neighbors  0.467552\n",
       "11                Naive Bayes -0.786504"
      ]
     },
     "execution_count": 20,
     "metadata": {},
     "output_type": "execute_result"
    }
   ],
   "source": [
    "pd.DataFrame({\n",
    "    'Model': model_list,\n",
    "    'R2 Score': r2_list\n",
    "}).sort_values(by='R2 Score', ascending=False).reset_index(drop=True)"
   ]
  },
  {
   "cell_type": "code",
   "execution_count": 21,
   "id": "4dc8dd76",
   "metadata": {},
   "outputs": [
    {
     "name": "stdout",
     "output_type": "stream",
     "text": [
      "R2 Score of Linear Regression: 88.04%\n"
     ]
    }
   ],
   "source": [
    "linear_model = LinearRegression()\n",
    "linear_model.fit(X_train, y_train)\n",
    "y_pred = linear_model.predict(X_test)\n",
    "score = r2_score(y_test, y_pred)*100\n",
    "print(f\"R2 Score of Linear Regression: {score:.2f}%\")"
   ]
  },
  {
   "cell_type": "code",
   "execution_count": 22,
   "id": "ba9a398d",
   "metadata": {},
   "outputs": [
    {
     "data": {
      "image/png": "[encoded data removed]",
      "text/plain": [
       "<Figure size 640x480 with 1 Axes>"
      ]
     },
     "metadata": {},
     "output_type": "display_data"
    }
   ],
   "source": [
    "plt.scatter(y_test, y_pred)\n",
    "plt.xlabel('Actual Values')\n",
    "plt.ylabel('Predicted Values')\n",
    "plt.title('Actual vs Predicted Values')\n",
    "plt.show()"
   ]
  },
  {
   "cell_type": "code",
   "execution_count": 23,
   "id": "48e8a0a4",
   "metadata": {},
   "outputs": [
    {
     "data": {
      "text/plain": [
       "Text(0.5, 1.0, 'Actual vs Predicted Values')"
      ]
     },
     "execution_count": 23,
     "metadata": {},
     "output_type": "execute_result"
    },
    {
     "data": {
      "image/png": "[encoded data removed]",
      "text/plain": [
       "<Figure size 640x480 with 1 Axes>"
      ]
     },
     "metadata": {},
     "output_type": "display_data"
    }
   ],
   "source": [
    "sns.scatterplot(x=y_test, y=y_pred)\n",
    "plt.xlabel('Actual Values')\n",
    "plt.ylabel('Predicted Values')\n",
    "plt.title('Actual vs Predicted Values')"
   ]
  },
  {
   "cell_type": "code",
   "execution_count": null,
   "id": "42052a47",
   "metadata": {},
   "outputs": [],
   "source": []
  }
 ],
 "metadata": {
  "kernelspec": {
   "display_name": "Python 3",
   "language": "python",
   "name": "python3"
  },
  "language_info": {
   "codemirror_mode": {
    "name": "ipython",
    "version": 3
   },
   "file_extension": ".py",
   "mimetype": "text/x-python",
   "name": "python",
   "nbconvert_exporter": "python",
   "pygments_lexer": "ipython3",
   "version": "3.9.23"
  }
 },
 "nbformat": 4,
 "nbformat_minor": 5
}
